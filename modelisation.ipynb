{
 "cells": [
  {
   "cell_type": "code",
   "execution_count": 1,
   "metadata": {},
   "outputs": [],
   "source": [
    "import pandas as pd\n",
    "import os"
   ]
  },
  {
   "cell_type": "code",
   "execution_count": 2,
   "metadata": {},
   "outputs": [],
   "source": [
    "df = pd.read_csv(os.path.join(\"dataset\", \"preprocessed_ds.csv\"))"
   ]
  },
  {
   "cell_type": "code",
   "execution_count": 3,
   "metadata": {},
   "outputs": [
    {
     "data": {
      "text/plain": [
       "(1200, 26)"
      ]
     },
     "execution_count": 3,
     "metadata": {},
     "output_type": "execute_result"
    }
   ],
   "source": [
    "df.shape"
   ]
  },
  {
   "cell_type": "code",
   "execution_count": 4,
   "metadata": {},
   "outputs": [
    {
     "data": {
      "text/html": [
       "<div>\n",
       "<style scoped>\n",
       "    .dataframe tbody tr th:only-of-type {\n",
       "        vertical-align: middle;\n",
       "    }\n",
       "\n",
       "    .dataframe tbody tr th {\n",
       "        vertical-align: top;\n",
       "    }\n",
       "\n",
       "    .dataframe thead th {\n",
       "        text-align: right;\n",
       "    }\n",
       "</style>\n",
       "<table border=\"1\" class=\"dataframe\">\n",
       "  <thead>\n",
       "    <tr style=\"text-align: right;\">\n",
       "      <th></th>\n",
       "      <th>0</th>\n",
       "      <th>1</th>\n",
       "      <th>2</th>\n",
       "      <th>3</th>\n",
       "      <th>4</th>\n",
       "      <th>5</th>\n",
       "      <th>6</th>\n",
       "      <th>7</th>\n",
       "      <th>8</th>\n",
       "      <th>9</th>\n",
       "      <th>...</th>\n",
       "      <th>16</th>\n",
       "      <th>17</th>\n",
       "      <th>18</th>\n",
       "      <th>19</th>\n",
       "      <th>20</th>\n",
       "      <th>21</th>\n",
       "      <th>22</th>\n",
       "      <th>23</th>\n",
       "      <th>24</th>\n",
       "      <th>target</th>\n",
       "    </tr>\n",
       "  </thead>\n",
       "  <tbody>\n",
       "    <tr>\n",
       "      <th>0</th>\n",
       "      <td>-0.054370</td>\n",
       "      <td>-0.037797</td>\n",
       "      <td>-0.012507</td>\n",
       "      <td>-0.057974</td>\n",
       "      <td>-0.021634</td>\n",
       "      <td>-0.013976</td>\n",
       "      <td>-0.038334</td>\n",
       "      <td>-0.000743</td>\n",
       "      <td>-0.011150</td>\n",
       "      <td>-0.009928</td>\n",
       "      <td>...</td>\n",
       "      <td>-0.036374</td>\n",
       "      <td>0.000065</td>\n",
       "      <td>-0.019362</td>\n",
       "      <td>-0.018975</td>\n",
       "      <td>-0.013414</td>\n",
       "      <td>-0.005737</td>\n",
       "      <td>-0.006352</td>\n",
       "      <td>0.000613</td>\n",
       "      <td>-8.835381e-17</td>\n",
       "      <td>4</td>\n",
       "    </tr>\n",
       "    <tr>\n",
       "      <th>1</th>\n",
       "      <td>0.927998</td>\n",
       "      <td>0.086490</td>\n",
       "      <td>0.005188</td>\n",
       "      <td>0.058084</td>\n",
       "      <td>0.011257</td>\n",
       "      <td>-0.024652</td>\n",
       "      <td>0.009155</td>\n",
       "      <td>0.006720</td>\n",
       "      <td>0.003109</td>\n",
       "      <td>0.001622</td>\n",
       "      <td>...</td>\n",
       "      <td>-0.012596</td>\n",
       "      <td>-0.009111</td>\n",
       "      <td>-0.015764</td>\n",
       "      <td>-0.004817</td>\n",
       "      <td>-0.001930</td>\n",
       "      <td>-0.002440</td>\n",
       "      <td>0.002207</td>\n",
       "      <td>-0.000024</td>\n",
       "      <td>-3.429862e-17</td>\n",
       "      <td>4</td>\n",
       "    </tr>\n",
       "    <tr>\n",
       "      <th>2</th>\n",
       "      <td>-0.054370</td>\n",
       "      <td>-0.037797</td>\n",
       "      <td>-0.012507</td>\n",
       "      <td>-0.057974</td>\n",
       "      <td>-0.021634</td>\n",
       "      <td>-0.013976</td>\n",
       "      <td>-0.038334</td>\n",
       "      <td>-0.000743</td>\n",
       "      <td>-0.011150</td>\n",
       "      <td>-0.009928</td>\n",
       "      <td>...</td>\n",
       "      <td>-0.036374</td>\n",
       "      <td>0.000065</td>\n",
       "      <td>-0.019362</td>\n",
       "      <td>-0.018975</td>\n",
       "      <td>-0.013414</td>\n",
       "      <td>-0.005737</td>\n",
       "      <td>-0.006352</td>\n",
       "      <td>0.000613</td>\n",
       "      <td>-7.393419e-17</td>\n",
       "      <td>4</td>\n",
       "    </tr>\n",
       "    <tr>\n",
       "      <th>3</th>\n",
       "      <td>-0.054370</td>\n",
       "      <td>-0.037797</td>\n",
       "      <td>-0.012507</td>\n",
       "      <td>-0.057974</td>\n",
       "      <td>-0.021634</td>\n",
       "      <td>-0.013976</td>\n",
       "      <td>-0.038334</td>\n",
       "      <td>-0.000743</td>\n",
       "      <td>-0.011150</td>\n",
       "      <td>-0.009928</td>\n",
       "      <td>...</td>\n",
       "      <td>-0.036374</td>\n",
       "      <td>0.000065</td>\n",
       "      <td>-0.019362</td>\n",
       "      <td>-0.018975</td>\n",
       "      <td>-0.013414</td>\n",
       "      <td>-0.005737</td>\n",
       "      <td>-0.006352</td>\n",
       "      <td>0.000613</td>\n",
       "      <td>-3.781455e-17</td>\n",
       "      <td>1</td>\n",
       "    </tr>\n",
       "    <tr>\n",
       "      <th>4</th>\n",
       "      <td>-0.054370</td>\n",
       "      <td>-0.037797</td>\n",
       "      <td>-0.012507</td>\n",
       "      <td>-0.057974</td>\n",
       "      <td>-0.021634</td>\n",
       "      <td>-0.013976</td>\n",
       "      <td>-0.038334</td>\n",
       "      <td>-0.000743</td>\n",
       "      <td>-0.011150</td>\n",
       "      <td>-0.009928</td>\n",
       "      <td>...</td>\n",
       "      <td>-0.036374</td>\n",
       "      <td>0.000065</td>\n",
       "      <td>-0.019362</td>\n",
       "      <td>-0.018975</td>\n",
       "      <td>-0.013414</td>\n",
       "      <td>-0.005737</td>\n",
       "      <td>-0.006352</td>\n",
       "      <td>0.000613</td>\n",
       "      <td>-3.867087e-17</td>\n",
       "      <td>3</td>\n",
       "    </tr>\n",
       "  </tbody>\n",
       "</table>\n",
       "<p>5 rows × 26 columns</p>\n",
       "</div>"
      ],
      "text/plain": [
       "          0         1         2         3         4         5         6  \\\n",
       "0 -0.054370 -0.037797 -0.012507 -0.057974 -0.021634 -0.013976 -0.038334   \n",
       "1  0.927998  0.086490  0.005188  0.058084  0.011257 -0.024652  0.009155   \n",
       "2 -0.054370 -0.037797 -0.012507 -0.057974 -0.021634 -0.013976 -0.038334   \n",
       "3 -0.054370 -0.037797 -0.012507 -0.057974 -0.021634 -0.013976 -0.038334   \n",
       "4 -0.054370 -0.037797 -0.012507 -0.057974 -0.021634 -0.013976 -0.038334   \n",
       "\n",
       "          7         8         9  ...        16        17        18        19  \\\n",
       "0 -0.000743 -0.011150 -0.009928  ... -0.036374  0.000065 -0.019362 -0.018975   \n",
       "1  0.006720  0.003109  0.001622  ... -0.012596 -0.009111 -0.015764 -0.004817   \n",
       "2 -0.000743 -0.011150 -0.009928  ... -0.036374  0.000065 -0.019362 -0.018975   \n",
       "3 -0.000743 -0.011150 -0.009928  ... -0.036374  0.000065 -0.019362 -0.018975   \n",
       "4 -0.000743 -0.011150 -0.009928  ... -0.036374  0.000065 -0.019362 -0.018975   \n",
       "\n",
       "         20        21        22        23            24  target  \n",
       "0 -0.013414 -0.005737 -0.006352  0.000613 -8.835381e-17       4  \n",
       "1 -0.001930 -0.002440  0.002207 -0.000024 -3.429862e-17       4  \n",
       "2 -0.013414 -0.005737 -0.006352  0.000613 -7.393419e-17       4  \n",
       "3 -0.013414 -0.005737 -0.006352  0.000613 -3.781455e-17       1  \n",
       "4 -0.013414 -0.005737 -0.006352  0.000613 -3.867087e-17       3  \n",
       "\n",
       "[5 rows x 26 columns]"
      ]
     },
     "execution_count": 4,
     "metadata": {},
     "output_type": "execute_result"
    }
   ],
   "source": [
    "df.head()"
   ]
  },
  {
   "cell_type": "code",
   "execution_count": 5,
   "metadata": {},
   "outputs": [
    {
     "data": {
      "text/plain": [
       "0       4\n",
       "1       4\n",
       "2       4\n",
       "3       1\n",
       "4       3\n",
       "       ..\n",
       "1195    3\n",
       "1196    4\n",
       "1197    2\n",
       "1198    2\n",
       "1199    2\n",
       "Name: target, Length: 1200, dtype: int64"
      ]
     },
     "execution_count": 5,
     "metadata": {},
     "output_type": "execute_result"
    }
   ],
   "source": [
    "df[\"target\"]"
   ]
  },
  {
   "cell_type": "code",
   "execution_count": 6,
   "metadata": {},
   "outputs": [],
   "source": [
    "X = df.drop(\"target\", axis=1)\n",
    "y = df[\"target\"]"
   ]
  },
  {
   "cell_type": "code",
   "execution_count": 7,
   "metadata": {},
   "outputs": [
    {
     "data": {
      "text/plain": [
       "(1200, 25)"
      ]
     },
     "execution_count": 7,
     "metadata": {},
     "output_type": "execute_result"
    }
   ],
   "source": [
    "X.shape"
   ]
  },
  {
   "cell_type": "code",
   "execution_count": 8,
   "metadata": {},
   "outputs": [
    {
     "data": {
      "text/plain": [
       "(1200,)"
      ]
     },
     "execution_count": 8,
     "metadata": {},
     "output_type": "execute_result"
    }
   ],
   "source": [
    "y.shape"
   ]
  },
  {
   "cell_type": "code",
   "execution_count": 9,
   "metadata": {},
   "outputs": [
    {
     "data": {
      "text/plain": [
       "0       4\n",
       "1       4\n",
       "2       4\n",
       "3       1\n",
       "4       3\n",
       "       ..\n",
       "1195    3\n",
       "1196    4\n",
       "1197    2\n",
       "1198    2\n",
       "1199    2\n",
       "Name: target, Length: 1200, dtype: int64"
      ]
     },
     "execution_count": 9,
     "metadata": {},
     "output_type": "execute_result"
    }
   ],
   "source": [
    "y"
   ]
  },
  {
   "cell_type": "code",
   "execution_count": 10,
   "metadata": {},
   "outputs": [],
   "source": [
    "import mlflow\n",
    "from sklearn.model_selection import cross_validate\n",
    "from sklearn.metrics import accuracy_score, recall_score, precision_score, f1_score\n",
    "from sklearn.svm import SVC\n",
    "from sklearn.linear_model import LogisticRegression\n",
    "from sklearn.tree import DecisionTreeClassifier\n",
    "from sklearn.ensemble import RandomForestClassifier, GradientBoostingClassifier\n",
    "from statistics import mean\n",
    "import numpy as np"
   ]
  },
  {
   "cell_type": "code",
   "execution_count": 11,
   "metadata": {},
   "outputs": [],
   "source": [
    "def eval_metrics(clf, X, actual):\n",
    "    pred = clf.predict(X)\n",
    "    return {\n",
    "        \"accuracy\": accuracy_score(actual, pred),\n",
    "        \"recall\": recall_score(actual, pred, average=\"weighted\"),\n",
    "        \"precision\": precision_score(actual, pred, average=\"weighted\"),\n",
    "        \"f1\": f1_score(actual, pred, average=\"weighted\")\n",
    "    }"
   ]
  },
  {
   "cell_type": "code",
   "execution_count": 12,
   "metadata": {},
   "outputs": [],
   "source": [
    "def run_exp(clf, name, params={}):\n",
    "    with mlflow.start_run(run_name=name):\n",
    "        results = cross_validate(clf, X, y, cv=5, scoring=eval_metrics)\n",
    "        clf.fit(X, y)\n",
    "        signature = mlflow.models.infer_signature(X, clf.predict(X))\n",
    "\n",
    "        mlflow.sklearn.log_model(clf, \"model\", signature=signature)\n",
    "\n",
    "        if params:\n",
    "            for k, v in params.items():\n",
    "                mlflow.log_param(k, v)\n",
    "\n",
    "        mlflow.log_metric(\"accuracy mean\", mean(results[\"test_accuracy\"]))\n",
    "        mlflow.log_metric(\"accuracy std\", np.std(results[\"test_accuracy\"]))\n",
    "        mlflow.log_metric(\"recall mean\", mean(results[\"test_recall\"]))\n",
    "        mlflow.log_metric(\"recall std\", np.std(results[\"test_recall\"]))\n",
    "        mlflow.log_metric(\"precision mean\", mean(results[\"test_precision\"]))\n",
    "        mlflow.log_metric(\"precision std\", np.std(results[\"test_precision\"]))\n",
    "        mlflow.log_metric(\"F1 score mean\", mean(results[\"test_f1\"]))\n",
    "        mlflow.log_metric(\"F1 score std\", np.std(results[\"test_f1\"]))"
   ]
  },
  {
   "cell_type": "code",
   "execution_count": 13,
   "metadata": {},
   "outputs": [
    {
     "name": "stdout",
     "output_type": "stream",
     "text": [
      "Training LR...\n"
     ]
    },
    {
     "name": "stdout",
     "output_type": "stream",
     "text": [
      "Training SVC...\n"
     ]
    },
    {
     "name": "stderr",
     "output_type": "stream",
     "text": [
      "c:\\Users\\User\\formation\\News-Scanner\\venv\\lib\\site-packages\\_distutils_hack\\__init__.py:18: UserWarning: Distutils was imported before Setuptools, but importing Setuptools also replaces the `distutils` module in `sys.modules`. This may lead to undesirable behaviors or errors. To avoid these issues, avoid using distutils directly, ensure that setuptools is installed in the traditional way (e.g. not an editable install), and/or make sure that setuptools is always imported before distutils.\n",
      "  warnings.warn(\n",
      "c:\\Users\\User\\formation\\News-Scanner\\venv\\lib\\site-packages\\_distutils_hack\\__init__.py:33: UserWarning: Setuptools is replacing distutils.\n",
      "  warnings.warn(\"Setuptools is replacing distutils.\")\n"
     ]
    },
    {
     "name": "stdout",
     "output_type": "stream",
     "text": [
      "Training DTC...\n"
     ]
    },
    {
     "name": "stderr",
     "output_type": "stream",
     "text": [
      "c:\\Users\\User\\formation\\News-Scanner\\venv\\lib\\site-packages\\_distutils_hack\\__init__.py:18: UserWarning: Distutils was imported before Setuptools, but importing Setuptools also replaces the `distutils` module in `sys.modules`. This may lead to undesirable behaviors or errors. To avoid these issues, avoid using distutils directly, ensure that setuptools is installed in the traditional way (e.g. not an editable install), and/or make sure that setuptools is always imported before distutils.\n",
      "  warnings.warn(\n",
      "c:\\Users\\User\\formation\\News-Scanner\\venv\\lib\\site-packages\\_distutils_hack\\__init__.py:33: UserWarning: Setuptools is replacing distutils.\n",
      "  warnings.warn(\"Setuptools is replacing distutils.\")\n"
     ]
    },
    {
     "name": "stdout",
     "output_type": "stream",
     "text": [
      "Training RFC...\n"
     ]
    },
    {
     "name": "stderr",
     "output_type": "stream",
     "text": [
      "c:\\Users\\User\\formation\\News-Scanner\\venv\\lib\\site-packages\\_distutils_hack\\__init__.py:18: UserWarning: Distutils was imported before Setuptools, but importing Setuptools also replaces the `distutils` module in `sys.modules`. This may lead to undesirable behaviors or errors. To avoid these issues, avoid using distutils directly, ensure that setuptools is installed in the traditional way (e.g. not an editable install), and/or make sure that setuptools is always imported before distutils.\n",
      "  warnings.warn(\n",
      "c:\\Users\\User\\formation\\News-Scanner\\venv\\lib\\site-packages\\_distutils_hack\\__init__.py:33: UserWarning: Setuptools is replacing distutils.\n",
      "  warnings.warn(\"Setuptools is replacing distutils.\")\n"
     ]
    },
    {
     "name": "stdout",
     "output_type": "stream",
     "text": [
      "Training GBC...\n"
     ]
    },
    {
     "name": "stderr",
     "output_type": "stream",
     "text": [
      "c:\\Users\\User\\formation\\News-Scanner\\venv\\lib\\site-packages\\_distutils_hack\\__init__.py:18: UserWarning: Distutils was imported before Setuptools, but importing Setuptools also replaces the `distutils` module in `sys.modules`. This may lead to undesirable behaviors or errors. To avoid these issues, avoid using distutils directly, ensure that setuptools is installed in the traditional way (e.g. not an editable install), and/or make sure that setuptools is always imported before distutils.\n",
      "  warnings.warn(\n",
      "c:\\Users\\User\\formation\\News-Scanner\\venv\\lib\\site-packages\\_distutils_hack\\__init__.py:33: UserWarning: Setuptools is replacing distutils.\n",
      "  warnings.warn(\"Setuptools is replacing distutils.\")\n"
     ]
    }
   ],
   "source": [
    "models = [\n",
    "    LogisticRegression(),\n",
    "    SVC(),\n",
    "    DecisionTreeClassifier(),\n",
    "    RandomForestClassifier(),\n",
    "    GradientBoostingClassifier()\n",
    "]\n",
    "\n",
    "names = [\n",
    "    \"LR\",\n",
    "    \"SVC\",\n",
    "    \"DTC\",\n",
    "    \"RFC\",\n",
    "    \"GBC\"\n",
    "]\n",
    "\n",
    "for model, name in zip(models, names):\n",
    "    print(f\"Training {name}...\")\n",
    "    run_exp(model, name)"
   ]
  },
  {
   "cell_type": "code",
   "execution_count": 14,
   "metadata": {},
   "outputs": [],
   "source": [
    "import random"
   ]
  },
  {
   "cell_type": "code",
   "execution_count": 15,
   "metadata": {},
   "outputs": [
    {
     "name": "stdout",
     "output_type": "stream",
     "text": [
      "Training GBC...\n"
     ]
    },
    {
     "name": "stderr",
     "output_type": "stream",
     "text": [
      "c:\\Users\\User\\formation\\News-Scanner\\venv\\lib\\site-packages\\_distutils_hack\\__init__.py:18: UserWarning: Distutils was imported before Setuptools, but importing Setuptools also replaces the `distutils` module in `sys.modules`. This may lead to undesirable behaviors or errors. To avoid these issues, avoid using distutils directly, ensure that setuptools is installed in the traditional way (e.g. not an editable install), and/or make sure that setuptools is always imported before distutils.\n",
      "  warnings.warn(\n",
      "c:\\Users\\User\\formation\\News-Scanner\\venv\\lib\\site-packages\\_distutils_hack\\__init__.py:33: UserWarning: Setuptools is replacing distutils.\n",
      "  warnings.warn(\"Setuptools is replacing distutils.\")\n"
     ]
    },
    {
     "name": "stdout",
     "output_type": "stream",
     "text": [
      "Training GBC...\n"
     ]
    },
    {
     "name": "stderr",
     "output_type": "stream",
     "text": [
      "c:\\Users\\User\\formation\\News-Scanner\\venv\\lib\\site-packages\\_distutils_hack\\__init__.py:18: UserWarning: Distutils was imported before Setuptools, but importing Setuptools also replaces the `distutils` module in `sys.modules`. This may lead to undesirable behaviors or errors. To avoid these issues, avoid using distutils directly, ensure that setuptools is installed in the traditional way (e.g. not an editable install), and/or make sure that setuptools is always imported before distutils.\n",
      "  warnings.warn(\n",
      "c:\\Users\\User\\formation\\News-Scanner\\venv\\lib\\site-packages\\_distutils_hack\\__init__.py:33: UserWarning: Setuptools is replacing distutils.\n",
      "  warnings.warn(\"Setuptools is replacing distutils.\")\n"
     ]
    },
    {
     "name": "stdout",
     "output_type": "stream",
     "text": [
      "Training GBC...\n"
     ]
    },
    {
     "name": "stderr",
     "output_type": "stream",
     "text": [
      "c:\\Users\\User\\formation\\News-Scanner\\venv\\lib\\site-packages\\_distutils_hack\\__init__.py:18: UserWarning: Distutils was imported before Setuptools, but importing Setuptools also replaces the `distutils` module in `sys.modules`. This may lead to undesirable behaviors or errors. To avoid these issues, avoid using distutils directly, ensure that setuptools is installed in the traditional way (e.g. not an editable install), and/or make sure that setuptools is always imported before distutils.\n",
      "  warnings.warn(\n",
      "c:\\Users\\User\\formation\\News-Scanner\\venv\\lib\\site-packages\\_distutils_hack\\__init__.py:33: UserWarning: Setuptools is replacing distutils.\n",
      "  warnings.warn(\"Setuptools is replacing distutils.\")\n"
     ]
    },
    {
     "name": "stdout",
     "output_type": "stream",
     "text": [
      "Training GBC...\n"
     ]
    },
    {
     "name": "stderr",
     "output_type": "stream",
     "text": [
      "c:\\Users\\User\\formation\\News-Scanner\\venv\\lib\\site-packages\\_distutils_hack\\__init__.py:18: UserWarning: Distutils was imported before Setuptools, but importing Setuptools also replaces the `distutils` module in `sys.modules`. This may lead to undesirable behaviors or errors. To avoid these issues, avoid using distutils directly, ensure that setuptools is installed in the traditional way (e.g. not an editable install), and/or make sure that setuptools is always imported before distutils.\n",
      "  warnings.warn(\n",
      "c:\\Users\\User\\formation\\News-Scanner\\venv\\lib\\site-packages\\_distutils_hack\\__init__.py:33: UserWarning: Setuptools is replacing distutils.\n",
      "  warnings.warn(\"Setuptools is replacing distutils.\")\n"
     ]
    },
    {
     "name": "stdout",
     "output_type": "stream",
     "text": [
      "Training GBC...\n"
     ]
    },
    {
     "name": "stderr",
     "output_type": "stream",
     "text": [
      "c:\\Users\\User\\formation\\News-Scanner\\venv\\lib\\site-packages\\_distutils_hack\\__init__.py:18: UserWarning: Distutils was imported before Setuptools, but importing Setuptools also replaces the `distutils` module in `sys.modules`. This may lead to undesirable behaviors or errors. To avoid these issues, avoid using distutils directly, ensure that setuptools is installed in the traditional way (e.g. not an editable install), and/or make sure that setuptools is always imported before distutils.\n",
      "  warnings.warn(\n",
      "c:\\Users\\User\\formation\\News-Scanner\\venv\\lib\\site-packages\\_distutils_hack\\__init__.py:33: UserWarning: Setuptools is replacing distutils.\n",
      "  warnings.warn(\"Setuptools is replacing distutils.\")\n"
     ]
    }
   ],
   "source": [
    "parameters = {\n",
    "    \"learning_rate\": [0.1, 0.3, 0.01],\n",
    "    \"n_estimators\": [100, 50, 300]\n",
    "}\n",
    "\n",
    "for _ in range(5):\n",
    "    lr = random.choice(parameters[\"learning_rate\"])\n",
    "    n_est = random.choice(parameters[\"n_estimators\"])\n",
    "    clf = GradientBoostingClassifier(learning_rate=lr, \n",
    "                                     n_estimators=n_est)\n",
    "    \n",
    "    print(f\"Training {name}...\")\n",
    "    run_exp(model, name, {\n",
    "        \"learning_rate\": lr,\n",
    "        \"n_estimators\": n_est\n",
    "    })"
   ]
  },
  {
   "cell_type": "code",
   "execution_count": 16,
   "metadata": {},
   "outputs": [],
   "source": [
    "logged_model = 'runs:/2dbbfba9ef174a928e5d2158729381e3/model'\n",
    "\n",
    "# Load model as a PyFuncModel.\n",
    "loaded_model = mlflow.pyfunc.load_model(logged_model)"
   ]
  },
  {
   "cell_type": "code",
   "execution_count": 17,
   "metadata": {},
   "outputs": [],
   "source": [
    "pred = loaded_model.predict(X)"
   ]
  },
  {
   "cell_type": "code",
   "execution_count": 18,
   "metadata": {},
   "outputs": [
    {
     "name": "stderr",
     "output_type": "stream",
     "text": [
      "c:\\Users\\User\\formation\\News-Scanner\\venv\\lib\\site-packages\\mlflow\\data\\digest_utils.py:26: FutureWarning: DataFrame.applymap has been deprecated. Use DataFrame.map instead.\n",
      "  string_columns = trimmed_df.columns[(df.applymap(type) == str).all(0)]\n",
      "c:\\Users\\User\\formation\\News-Scanner\\venv\\lib\\site-packages\\mlflow\\models\\evaluation\\base.py:363: FutureWarning: DataFrame.applymap has been deprecated. Use DataFrame.map instead.\n",
      "  data = data.applymap(_hash_array_like_element_as_bytes)\n",
      "c:\\Users\\User\\formation\\News-Scanner\\venv\\lib\\site-packages\\mlflow\\models\\evaluation\\base.py:363: FutureWarning: DataFrame.applymap has been deprecated. Use DataFrame.map instead.\n",
      "  data = data.applymap(_hash_array_like_element_as_bytes)\n",
      "c:\\Users\\User\\formation\\News-Scanner\\venv\\lib\\site-packages\\mlflow\\data\\pandas_dataset.py:116: UserWarning: Hint: Inferred schema contains integer column(s). Integer columns in Python cannot represent missing values. If your input data contains missing values at inference time, it will be encoded as floats and will cause a schema enforcement error. The best way to avoid this problem is to infer the model schema based on a realistic data sample (training dataset) that includes missing values. Alternatively, you can declare integer columns as doubles (float64) whenever these columns may have missing values. See `Handling Integers With Missing Values <https://www.mlflow.org/docs/latest/models.html#handling-integers-with-missing-values>`_ for more details.\n",
      "  return _infer_schema(self._df)\n",
      "2023/10/05 17:58:35 INFO mlflow.models.evaluation.base: Evaluating the model with the default evaluator.\n",
      "2023/10/05 17:58:35 INFO mlflow.models.evaluation.default_evaluator: The evaluation dataset is inferred as multiclass dataset, number of classes is inferred as 4\n",
      "2023/10/05 17:58:37 WARNING mlflow.models.evaluation.default_evaluator: SHAP or matplotlib package is not installed, so model explainability insights will not be logged.\n"
     ]
    },
    {
     "data": {
      "text/plain": [
       "<Figure size 1050x700 with 0 Axes>"
      ]
     },
     "metadata": {},
     "output_type": "display_data"
    }
   ],
   "source": [
    "eval_data = X\n",
    "eval_data[\"label\"] = y\n",
    "\n",
    "with mlflow.start_run() as run:\n",
    "    # Evaluate the logged model\n",
    "    result = mlflow.evaluate(\n",
    "        logged_model,\n",
    "        eval_data,\n",
    "        targets=\"label\",\n",
    "        model_type=\"classifier\",\n",
    "        evaluators=[\"default\"],\n",
    "    )"
   ]
  },
  {
   "cell_type": "code",
   "execution_count": 26,
   "metadata": {},
   "outputs": [],
   "source": [
    "from sklearn.metrics import classification_report, confusion_matrix, ConfusionMatrixDisplay\n",
    "import matplotlib.pyplot as plt"
   ]
  },
  {
   "cell_type": "code",
   "execution_count": 20,
   "metadata": {},
   "outputs": [
    {
     "name": "stdout",
     "output_type": "stream",
     "text": [
      "              precision    recall  f1-score   support\n",
      "\n",
      "           1       0.70      0.32      0.44       291\n",
      "           2       0.53      0.31      0.39       300\n",
      "           3       0.83      0.31      0.45       305\n",
      "           4       0.31      0.81      0.45       304\n",
      "\n",
      "    accuracy                           0.44      1200\n",
      "   macro avg       0.59      0.44      0.43      1200\n",
      "weighted avg       0.59      0.44      0.43      1200\n",
      "\n"
     ]
    }
   ],
   "source": [
    "print(classification_report(y, pred))"
   ]
  },
  {
   "cell_type": "code",
   "execution_count": 22,
   "metadata": {},
   "outputs": [],
   "source": [
    "cm = confusion_matrix(y, pred)"
   ]
  },
  {
   "cell_type": "code",
   "execution_count": 27,
   "metadata": {},
   "outputs": [
    {
     "data": {
      "image/png": "[encoded data removed]",
      "text/plain": [
       "<Figure size 640x480 with 2 Axes>"
      ]
     },
     "metadata": {},
     "output_type": "display_data"
    },
    {
     "data": {
      "image/png": "[encoded data removed]",
      "text/plain": [
       "<Figure size 640x480 with 2 Axes>"
      ]
     },
     "metadata": {},
     "output_type": "display_data"
    },
    {
     "data": {
      "image/png": "[encoded data removed]",
      "text/plain": [
       "<Figure size 640x480 with 2 Axes>"
      ]
     },
     "metadata": {},
     "output_type": "display_data"
    }
   ],
   "source": [
    "disp = ConfusionMatrixDisplay(confusion_matrix=cm)\n",
    "disp.plot()\n",
    "plt.show()"
   ]
  },
  {
   "cell_type": "code",
   "execution_count": null,
   "metadata": {},
   "outputs": [],
   "source": []
  }
 ],
 "metadata": {
  "kernelspec": {
   "display_name": "venv",
   "language": "python",
   "name": "python3"
  },
  "language_info": {
   "codemirror_mode": {
    "name": "ipython",
    "version": 3
   },
   "file_extension": ".py",
   "mimetype": "text/x-python",
   "name": "python",
   "nbconvert_exporter": "python",
   "pygments_lexer": "ipython3",
   "version": "3.10.11"
  },
  "orig_nbformat": 4
 },
 "nbformat": 4,
 "nbformat_minor": 2
}
