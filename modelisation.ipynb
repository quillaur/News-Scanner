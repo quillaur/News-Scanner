{
 "cells": [
  {
   "cell_type": "code",
   "execution_count": 8,
   "metadata": {},
   "outputs": [],
   "source": [
    "import pandas as pd\n",
    "import os"
   ]
  },
  {
   "cell_type": "code",
   "execution_count": 9,
   "metadata": {},
   "outputs": [],
   "source": [
    "df = pd.read_csv(os.path.join(\"dataset\", \"preprocessed_ds.csv\"))"
   ]
  },
  {
   "cell_type": "code",
   "execution_count": 10,
   "metadata": {},
   "outputs": [
    {
     "data": {
      "text/plain": [
       "(1200, 26)"
      ]
     },
     "execution_count": 10,
     "metadata": {},
     "output_type": "execute_result"
    }
   ],
   "source": [
    "df.shape"
   ]
  },
  {
   "cell_type": "code",
   "execution_count": 11,
   "metadata": {},
   "outputs": [
    {
     "data": {
      "text/html": [
       "<div>\n",
       "<style scoped>\n",
       "    .dataframe tbody tr th:only-of-type {\n",
       "        vertical-align: middle;\n",
       "    }\n",
       "\n",
       "    .dataframe tbody tr th {\n",
       "        vertical-align: top;\n",
       "    }\n",
       "\n",
       "    .dataframe thead th {\n",
       "        text-align: right;\n",
       "    }\n",
       "</style>\n",
       "<table border=\"1\" class=\"dataframe\">\n",
       "  <thead>\n",
       "    <tr style=\"text-align: right;\">\n",
       "      <th></th>\n",
       "      <th>0</th>\n",
       "      <th>1</th>\n",
       "      <th>2</th>\n",
       "      <th>3</th>\n",
       "      <th>4</th>\n",
       "      <th>5</th>\n",
       "      <th>6</th>\n",
       "      <th>7</th>\n",
       "      <th>8</th>\n",
       "      <th>9</th>\n",
       "      <th>...</th>\n",
       "      <th>16</th>\n",
       "      <th>17</th>\n",
       "      <th>18</th>\n",
       "      <th>19</th>\n",
       "      <th>20</th>\n",
       "      <th>21</th>\n",
       "      <th>22</th>\n",
       "      <th>23</th>\n",
       "      <th>24</th>\n",
       "      <th>target</th>\n",
       "    </tr>\n",
       "  </thead>\n",
       "  <tbody>\n",
       "    <tr>\n",
       "      <th>0</th>\n",
       "      <td>-0.054370</td>\n",
       "      <td>-0.037797</td>\n",
       "      <td>-0.012507</td>\n",
       "      <td>-0.057974</td>\n",
       "      <td>-0.021634</td>\n",
       "      <td>-0.013976</td>\n",
       "      <td>-0.038334</td>\n",
       "      <td>-0.000743</td>\n",
       "      <td>-0.011150</td>\n",
       "      <td>-0.009928</td>\n",
       "      <td>...</td>\n",
       "      <td>-0.036374</td>\n",
       "      <td>0.000065</td>\n",
       "      <td>-0.019362</td>\n",
       "      <td>-0.018975</td>\n",
       "      <td>-0.013414</td>\n",
       "      <td>-0.005737</td>\n",
       "      <td>-0.006352</td>\n",
       "      <td>0.000613</td>\n",
       "      <td>-8.835381e-17</td>\n",
       "      <td>4</td>\n",
       "    </tr>\n",
       "    <tr>\n",
       "      <th>1</th>\n",
       "      <td>0.927998</td>\n",
       "      <td>0.086490</td>\n",
       "      <td>0.005188</td>\n",
       "      <td>0.058084</td>\n",
       "      <td>0.011257</td>\n",
       "      <td>-0.024652</td>\n",
       "      <td>0.009155</td>\n",
       "      <td>0.006720</td>\n",
       "      <td>0.003109</td>\n",
       "      <td>0.001622</td>\n",
       "      <td>...</td>\n",
       "      <td>-0.012596</td>\n",
       "      <td>-0.009111</td>\n",
       "      <td>-0.015764</td>\n",
       "      <td>-0.004817</td>\n",
       "      <td>-0.001930</td>\n",
       "      <td>-0.002440</td>\n",
       "      <td>0.002207</td>\n",
       "      <td>-0.000024</td>\n",
       "      <td>-3.429862e-17</td>\n",
       "      <td>4</td>\n",
       "    </tr>\n",
       "    <tr>\n",
       "      <th>2</th>\n",
       "      <td>-0.054370</td>\n",
       "      <td>-0.037797</td>\n",
       "      <td>-0.012507</td>\n",
       "      <td>-0.057974</td>\n",
       "      <td>-0.021634</td>\n",
       "      <td>-0.013976</td>\n",
       "      <td>-0.038334</td>\n",
       "      <td>-0.000743</td>\n",
       "      <td>-0.011150</td>\n",
       "      <td>-0.009928</td>\n",
       "      <td>...</td>\n",
       "      <td>-0.036374</td>\n",
       "      <td>0.000065</td>\n",
       "      <td>-0.019362</td>\n",
       "      <td>-0.018975</td>\n",
       "      <td>-0.013414</td>\n",
       "      <td>-0.005737</td>\n",
       "      <td>-0.006352</td>\n",
       "      <td>0.000613</td>\n",
       "      <td>-7.393419e-17</td>\n",
       "      <td>4</td>\n",
       "    </tr>\n",
       "    <tr>\n",
       "      <th>3</th>\n",
       "      <td>-0.054370</td>\n",
       "      <td>-0.037797</td>\n",
       "      <td>-0.012507</td>\n",
       "      <td>-0.057974</td>\n",
       "      <td>-0.021634</td>\n",
       "      <td>-0.013976</td>\n",
       "      <td>-0.038334</td>\n",
       "      <td>-0.000743</td>\n",
       "      <td>-0.011150</td>\n",
       "      <td>-0.009928</td>\n",
       "      <td>...</td>\n",
       "      <td>-0.036374</td>\n",
       "      <td>0.000065</td>\n",
       "      <td>-0.019362</td>\n",
       "      <td>-0.018975</td>\n",
       "      <td>-0.013414</td>\n",
       "      <td>-0.005737</td>\n",
       "      <td>-0.006352</td>\n",
       "      <td>0.000613</td>\n",
       "      <td>-3.781455e-17</td>\n",
       "      <td>1</td>\n",
       "    </tr>\n",
       "    <tr>\n",
       "      <th>4</th>\n",
       "      <td>-0.054370</td>\n",
       "      <td>-0.037797</td>\n",
       "      <td>-0.012507</td>\n",
       "      <td>-0.057974</td>\n",
       "      <td>-0.021634</td>\n",
       "      <td>-0.013976</td>\n",
       "      <td>-0.038334</td>\n",
       "      <td>-0.000743</td>\n",
       "      <td>-0.011150</td>\n",
       "      <td>-0.009928</td>\n",
       "      <td>...</td>\n",
       "      <td>-0.036374</td>\n",
       "      <td>0.000065</td>\n",
       "      <td>-0.019362</td>\n",
       "      <td>-0.018975</td>\n",
       "      <td>-0.013414</td>\n",
       "      <td>-0.005737</td>\n",
       "      <td>-0.006352</td>\n",
       "      <td>0.000613</td>\n",
       "      <td>-3.867087e-17</td>\n",
       "      <td>3</td>\n",
       "    </tr>\n",
       "  </tbody>\n",
       "</table>\n",
       "<p>5 rows × 26 columns</p>\n",
       "</div>"
      ],
      "text/plain": [
       "          0         1         2         3         4         5         6  \\\n",
       "0 -0.054370 -0.037797 -0.012507 -0.057974 -0.021634 -0.013976 -0.038334   \n",
       "1  0.927998  0.086490  0.005188  0.058084  0.011257 -0.024652  0.009155   \n",
       "2 -0.054370 -0.037797 -0.012507 -0.057974 -0.021634 -0.013976 -0.038334   \n",
       "3 -0.054370 -0.037797 -0.012507 -0.057974 -0.021634 -0.013976 -0.038334   \n",
       "4 -0.054370 -0.037797 -0.012507 -0.057974 -0.021634 -0.013976 -0.038334   \n",
       "\n",
       "          7         8         9  ...        16        17        18        19  \\\n",
       "0 -0.000743 -0.011150 -0.009928  ... -0.036374  0.000065 -0.019362 -0.018975   \n",
       "1  0.006720  0.003109  0.001622  ... -0.012596 -0.009111 -0.015764 -0.004817   \n",
       "2 -0.000743 -0.011150 -0.009928  ... -0.036374  0.000065 -0.019362 -0.018975   \n",
       "3 -0.000743 -0.011150 -0.009928  ... -0.036374  0.000065 -0.019362 -0.018975   \n",
       "4 -0.000743 -0.011150 -0.009928  ... -0.036374  0.000065 -0.019362 -0.018975   \n",
       "\n",
       "         20        21        22        23            24  target  \n",
       "0 -0.013414 -0.005737 -0.006352  0.000613 -8.835381e-17       4  \n",
       "1 -0.001930 -0.002440  0.002207 -0.000024 -3.429862e-17       4  \n",
       "2 -0.013414 -0.005737 -0.006352  0.000613 -7.393419e-17       4  \n",
       "3 -0.013414 -0.005737 -0.006352  0.000613 -3.781455e-17       1  \n",
       "4 -0.013414 -0.005737 -0.006352  0.000613 -3.867087e-17       3  \n",
       "\n",
       "[5 rows x 26 columns]"
      ]
     },
     "execution_count": 11,
     "metadata": {},
     "output_type": "execute_result"
    }
   ],
   "source": [
    "df.head()"
   ]
  },
  {
   "cell_type": "code",
   "execution_count": 17,
   "metadata": {},
   "outputs": [
    {
     "data": {
      "text/plain": [
       "0       4\n",
       "1       4\n",
       "2       4\n",
       "3       1\n",
       "4       3\n",
       "       ..\n",
       "1195    3\n",
       "1196    4\n",
       "1197    2\n",
       "1198    2\n",
       "1199    2\n",
       "Name: target, Length: 1200, dtype: int64"
      ]
     },
     "execution_count": 17,
     "metadata": {},
     "output_type": "execute_result"
    }
   ],
   "source": [
    "df[\"target\"]"
   ]
  },
  {
   "cell_type": "code",
   "execution_count": 13,
   "metadata": {},
   "outputs": [],
   "source": [
    "X = df.drop(\"target\", axis=1)\n",
    "y = df[\"target\"]"
   ]
  },
  {
   "cell_type": "code",
   "execution_count": 14,
   "metadata": {},
   "outputs": [
    {
     "data": {
      "text/plain": [
       "(1200, 25)"
      ]
     },
     "execution_count": 14,
     "metadata": {},
     "output_type": "execute_result"
    }
   ],
   "source": [
    "X.shape"
   ]
  },
  {
   "cell_type": "code",
   "execution_count": 15,
   "metadata": {},
   "outputs": [
    {
     "data": {
      "text/plain": [
       "(1200,)"
      ]
     },
     "execution_count": 15,
     "metadata": {},
     "output_type": "execute_result"
    }
   ],
   "source": [
    "y.shape"
   ]
  },
  {
   "cell_type": "code",
   "execution_count": 16,
   "metadata": {},
   "outputs": [
    {
     "data": {
      "text/plain": [
       "0       4\n",
       "1       4\n",
       "2       4\n",
       "3       1\n",
       "4       3\n",
       "       ..\n",
       "1195    3\n",
       "1196    4\n",
       "1197    2\n",
       "1198    2\n",
       "1199    2\n",
       "Name: target, Length: 1200, dtype: int64"
      ]
     },
     "execution_count": 16,
     "metadata": {},
     "output_type": "execute_result"
    }
   ],
   "source": [
    "y"
   ]
  },
  {
   "cell_type": "code",
   "execution_count": 22,
   "metadata": {},
   "outputs": [],
   "source": [
    "import mlflow\n",
    "from sklearn.model_selection import train_test_split\n",
    "from sklearn.metrics import accuracy_score, recall_score, precision_score, f1_score\n",
    "from sklearn.svm import SVC"
   ]
  },
  {
   "cell_type": "code",
   "execution_count": 19,
   "metadata": {},
   "outputs": [],
   "source": [
    "train_x, test_x, train_y, test_y = train_test_split(X, y, test_size=0.30)"
   ]
  },
  {
   "cell_type": "code",
   "execution_count": 21,
   "metadata": {},
   "outputs": [],
   "source": [
    "def eval_metrics(actual, pred):\n",
    "    acc = accuracy_score(actual, pred)\n",
    "    recall = recall_score(actual, pred, average=\"weighted\")\n",
    "    precision = precision_score(actual, pred, average=\"weighted\")\n",
    "    f1 = f1_score(actual, pred, average=\"weighted\")\n",
    "    return acc, recall, precision, f1"
   ]
  },
  {
   "cell_type": "code",
   "execution_count": null,
   "metadata": {},
   "outputs": [],
   "source": [
    "with mlflow.start_run():\n",
    "    clf = SVC()\n",
    "    clf.fit(train_x, train_y)\n",
    "\n",
    "    mlflow.sklearn.log_model(clf, \"model\")\n",
    "\n",
    "    pred = clf.predict(test_x)\n",
    "    (acc, recall, precision, f1) = eval_metrics(test_y, pred)\n",
    "\n",
    "    mlflow.log_metric(\"accuracy\", acc)\n",
    "    mlflow.log_metric(\"recall\", recall)\n",
    "    mlflow.log_metric(\"precision\", precision)\n",
    "    mlflow.log_metric(\"F1 score\", f1)"
   ]
  }
 ],
 "metadata": {
  "kernelspec": {
   "display_name": "venv",
   "language": "python",
   "name": "python3"
  },
  "language_info": {
   "codemirror_mode": {
    "name": "ipython",
    "version": 3
   },
   "file_extension": ".py",
   "mimetype": "text/x-python",
   "name": "python",
   "nbconvert_exporter": "python",
   "pygments_lexer": "ipython3",
   "version": "3.10.11"
  },
  "orig_nbformat": 4
 },
 "nbformat": 4,
 "nbformat_minor": 2
}
