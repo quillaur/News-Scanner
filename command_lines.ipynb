{
 "cells": [
  {
   "cell_type": "code",
   "execution_count": 9,
   "metadata": {},
   "outputs": [
    {
     "name": "stdout",
     "output_type": "stream",
     "text": [
      "Added stage 'train' in 'dvc.yaml'\n",
      "\n",
      "To track the changes with git, run:\n",
      "\n",
      "\tgit add .gitignore dvc.yaml\n",
      "\n",
      "To enable auto staging, run:\n",
      "\n",
      "\tdvc config core.autostage true\n"
     ]
    }
   ],
   "source": [
    "!dvc stage add -n featurize \\\n",
    "                -p featurize.max_samples,featurize.min_df,featurize.pca_ratio \\\n",
    "                -d mlops_dvc/featurize.py -d dataset/train.csv \\\n",
    "                -o dataset/preprocessed_ds.csv \\\n",
    "                python mlops_dvc/featurize.py"
   ]
  },
  {
   "cell_type": "code",
   "execution_count": null,
   "metadata": {},
   "outputs": [],
   "source": [
    "!dvc stage add -n train \\\n",
    "                -p train.kernel,train.test_size \\\n",
    "                -d mlops_dvc/train.py -d dataset/preprocessed_ds.csv \\\n",
    "                -o svc.joblib \\\n",
    "                python mlops_dvc/train.py dataset/preprocessed_ds.csv svc.joblib"
   ]
  }
 ],
 "metadata": {
  "language_info": {
   "name": "python"
  }
 },
 "nbformat": 4,
 "nbformat_minor": 2
}
