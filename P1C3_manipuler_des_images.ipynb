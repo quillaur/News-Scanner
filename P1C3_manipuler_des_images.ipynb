{
  "nbformat": 4,
  "nbformat_minor": 0,
  "metadata": {
    "colab": {
      "provenance": [],
      "toc_visible": true,
      "authorship_tag": "ABX9TyPiatZSlcfy4hDXntUmvokI",
      "include_colab_link": true
    },
    "kernelspec": {
      "name": "python3",
      "display_name": "Python 3"
    },
    "language_info": {
      "name": "python"
    }
  },
  "cells": [
    {
      "cell_type": "markdown",
      "metadata": {
        "id": "view-in-github",
        "colab_type": "text"
      },
      "source": [
        "<a href=\"https://colab.research.google.com/github/quillaur/News-Scanner/blob/main/P1C3_manipuler_des_images.ipynb\" target=\"_parent\"><img src=\"https://colab.research.google.com/assets/colab-badge.svg\" alt=\"Open In Colab\"/></a>"
      ]
    },
    {
      "cell_type": "markdown",
      "source": [
        "# Étape 1 : Préparer l’environnement"
      ],
      "metadata": {
        "id": "XgF6EZrNe2rv"
      }
    },
    {
      "cell_type": "code",
      "execution_count": 53,
      "metadata": {
        "id": "GxAByKzxd5t2"
      },
      "outputs": [],
      "source": [
        "from pyspark.sql import SparkSession\n",
        "from pyspark.sql.functions import col, udf\n",
        "import tensorflow as tf\n",
        "from tensorflow.keras.applications import MobileNetV2\n",
        "from tensorflow.keras.preprocessing.image import img_to_array, load_img\n",
        "import numpy as np\n",
        "import os"
      ]
    },
    {
      "cell_type": "markdown",
      "source": [
        "Créez une session Spark pour démarrer PySpark :"
      ],
      "metadata": {
        "id": "LQnO6VPfef8t"
      }
    },
    {
      "cell_type": "code",
      "source": [
        "# Créez une session Spark\n",
        "spark = SparkSession.builder.appName(\"Manipulez des images avec PySpark\").getOrCreate()"
      ],
      "metadata": {
        "id": "PHTaFSdJeQAg"
      },
      "execution_count": 54,
      "outputs": []
    },
    {
      "cell_type": "markdown",
      "source": [
        "# Étape 2 : Charger des images de chats et de chiens"
      ],
      "metadata": {
        "id": "J5M6Aaf3ezt-"
      }
    },
    {
      "cell_type": "markdown",
      "source": [
        "Le dataset Dogs vs Cats est disponible sur Kaggle : [Dogs vs Cats Dataset](https://www.kaggle.com/c/dogs-vs-cats/data).\n",
        "\n",
        "Téléchargez et extrayez les images dans un dossier (par exemple, cats_dogs/).\n",
        "\n",
        "**N'hésitez pas à réduire la taille du jeu de données** dans un premier temps. Quand on cuisine un code, on a pas besoin de tout le dataset ! Ce n'est qu'une fois que le code est bon qu'on test avec le dataset dans son ensemble. Dans mon cas, je n'ai conservé que 21 images par classe dans mon fichier cats_dogs_mini.zip.\n",
        "\n",
        "Puisque j'ai uploadé un fichier zippé, je dois d'abord le dézipper."
      ],
      "metadata": {
        "id": "xpFU0AAVejud"
      }
    },
    {
      "cell_type": "code",
      "source": [
        "%%capture\n",
        "!unzip /content/cats_dogs_mini.zip"
      ],
      "metadata": {
        "id": "LCBiTvkciWT0"
      },
      "execution_count": 55,
      "outputs": []
    },
    {
      "cell_type": "code",
      "source": [
        "# Définissez le chemin vers votre dataset (à adapter selon votre structure de fichiers)\n",
        "DATASET_PATH = \"/content/cats_dogs_mini\""
      ],
      "metadata": {
        "id": "rootgQcqq78M"
      },
      "execution_count": 56,
      "outputs": []
    },
    {
      "cell_type": "markdown",
      "source": [
        "Cette fonction charge une image, la redimensionne (pour correspondre à l’entrée du CNN), et la prétraite."
      ],
      "metadata": {
        "id": "tLxvhQYmqCIq"
      }
    },
    {
      "cell_type": "code",
      "source": [
        "# Chargez les chemins des fichiers et les classes (cat/dog)\n",
        "def extract_label(filepath):\n",
        "    return \"cat\" if \"cat\" in filepath.split(\"/\")[-1] else \"dog\"\n",
        "\n",
        "def get_image_paths(directory):\n",
        "    image_paths = []\n",
        "    for root, dirs, files in os.walk(directory):\n",
        "      for filename in files:\n",
        "        if filename.endswith(\".jpg\"):\n",
        "            image_paths.append(os.path.join(root, filename))\n",
        "    return image_paths"
      ],
      "metadata": {
        "id": "vjWRoCkFqC5K"
      },
      "execution_count": 57,
      "outputs": []
    },
    {
      "cell_type": "markdown",
      "source": [
        "## Calcul distribué :\n",
        "\n",
        "Cette partie du code est prit en charge automtiquement par PySpark pour être distribuée si possible. En effet, le DataFrame Spark est réparti entre les nœuds du cluster.\n",
        "\n",
        "Chaque nœud traite un sous-ensemble des données (par exemple, un lot d'images)."
      ],
      "metadata": {
        "id": "TVViylhG6cMB"
      }
    },
    {
      "cell_type": "markdown",
      "source": [
        "Chargez les images et leurs étiquettes (\"chat\" ou \"chien\") dans un DataFrame :"
      ],
      "metadata": {
        "id": "0AIEMrlJepxF"
      }
    },
    {
      "cell_type": "code",
      "source": [
        "# Liste des chemins\n",
        "image_paths = get_image_paths(DATASET_PATH)\n",
        "\n",
        "# Créer un DataFrame Spark à partir des chemins\n",
        "image_df = spark.createDataFrame([(path, extract_label(path)) for path in image_paths], [\"path\", \"label\"])"
      ],
      "metadata": {
        "id": "_gohboM7enP_"
      },
      "execution_count": 58,
      "outputs": []
    },
    {
      "cell_type": "code",
      "source": [
        "# Affichez quelques lignes du DataFrame\n",
        "image_df.show(5, truncate=False)"
      ],
      "metadata": {
        "colab": {
          "base_uri": "https://localhost:8080/"
        },
        "id": "McVzOLjYsOoG",
        "outputId": "a6d87a15-ff32-40ff-a551-411974951391"
      },
      "execution_count": 59,
      "outputs": [
        {
          "output_type": "stream",
          "name": "stdout",
          "text": [
            "+---------------------------------------+-----+\n",
            "|path                                   |label|\n",
            "+---------------------------------------+-----+\n",
            "|/content/cats_dogs_mini/cats/cat.20.jpg|cat  |\n",
            "|/content/cats_dogs_mini/cats/cat.11.jpg|cat  |\n",
            "|/content/cats_dogs_mini/cats/cat.13.jpg|cat  |\n",
            "|/content/cats_dogs_mini/cats/cat.10.jpg|cat  |\n",
            "|/content/cats_dogs_mini/cats/cat.7.jpg |cat  |\n",
            "+---------------------------------------+-----+\n",
            "only showing top 5 rows\n",
            "\n"
          ]
        }
      ]
    },
    {
      "cell_type": "markdown",
      "source": [
        "## Calcul distribué :\n",
        "Les opérations comme `groupBy` sont distribuées, chaque partition effectuant un traitement local avant agrégation globale."
      ],
      "metadata": {
        "id": "f0bEYt-z7GXq"
      }
    },
    {
      "cell_type": "code",
      "source": [
        "# Comptez le nombre d'images par classe\n",
        "image_df.groupBy(\"label\").count().show()"
      ],
      "metadata": {
        "colab": {
          "base_uri": "https://localhost:8080/"
        },
        "id": "whGQ54sfsY8n",
        "outputId": "58eabd5f-e0c4-430b-ff1c-55ca1a87e38f"
      },
      "execution_count": 60,
      "outputs": [
        {
          "output_type": "stream",
          "name": "stdout",
          "text": [
            "+-----+-----+\n",
            "|label|count|\n",
            "+-----+-----+\n",
            "|  cat|   21|\n",
            "|  dog|   21|\n",
            "+-----+-----+\n",
            "\n"
          ]
        }
      ]
    },
    {
      "cell_type": "markdown",
      "source": [
        "# Étape 3 : Catégorisation automatique"
      ],
      "metadata": {
        "id": "m2twOtlb5yYY"
      }
    },
    {
      "cell_type": "code",
      "source": [
        "# Charger le modèle pré-entrainé\n",
        "model = MobileNetV2(weights=\"imagenet\", include_top=False, pooling=\"avg\")"
      ],
      "metadata": {
        "colab": {
          "base_uri": "https://localhost:8080/"
        },
        "id": "2Y_sjn6TtW-g",
        "outputId": "2b9ed32a-0c68-40e9-c513-2e71ad0c246c"
      },
      "execution_count": 61,
      "outputs": [
        {
          "output_type": "stream",
          "name": "stderr",
          "text": [
            "<ipython-input-61-0c01be329bf0>:2: UserWarning: `input_shape` is undefined or non-square, or `rows` is not in [96, 128, 160, 192, 224]. Weights for input shape (224, 224) will be loaded as the default.\n",
            "  model = MobileNetV2(weights=\"imagenet\", include_top=False, pooling=\"avg\")\n"
          ]
        }
      ]
    },
    {
      "cell_type": "code",
      "source": [
        "# Fonction pour extraire les caractéristiques d'une image\n",
        "def extract_features(path):\n",
        "    try:\n",
        "        img = load_img(path, target_size=(224, 224))\n",
        "        img_array = img_to_array(img)\n",
        "        img_array = np.expand_dims(img_array, axis=0)\n",
        "        img_array = tf.keras.applications.mobilenet_v2.preprocess_input(img_array)\n",
        "        features = model.predict(img_array)\n",
        "        return features.flatten().tolist()\n",
        "    except Exception as e:\n",
        "        return None"
      ],
      "metadata": {
        "id": "H4zdArVAg06C"
      },
      "execution_count": 62,
      "outputs": []
    },
    {
      "cell_type": "markdown",
      "source": [
        "## Calcul distribué :\n",
        "L'UDF `extract_features` est appliquée en parallèle sur chaque partition des données."
      ],
      "metadata": {
        "id": "K4AEK_Ze7RTr"
      }
    },
    {
      "cell_type": "code",
      "source": [
        "# Déclarez la fonction utilisateur (UDF)\n",
        "from pyspark.sql.types import ArrayType, FloatType\n",
        "feature_udf = udf(extract_features, ArrayType(FloatType()))"
      ],
      "metadata": {
        "id": "7I2x0gGrtaZw"
      },
      "execution_count": 63,
      "outputs": []
    },
    {
      "cell_type": "code",
      "source": [
        "# Ajoutez une colonne avec les caractéristiques extraites\n",
        "image_df = image_df.withColumn(\"features\", feature_udf(col(\"path\")))"
      ],
      "metadata": {
        "id": "ntl2ai8Rtrdi"
      },
      "execution_count": 64,
      "outputs": []
    },
    {
      "cell_type": "code",
      "source": [
        "# Affichez le DataFrame avec les nouvelles colonnes\n",
        "image_df.show(5)"
      ],
      "metadata": {
        "colab": {
          "base_uri": "https://localhost:8080/"
        },
        "id": "i0X8gJqXttyy",
        "outputId": "f8c6a950-866e-4af4-e516-fdb587232714"
      },
      "execution_count": 65,
      "outputs": [
        {
          "output_type": "stream",
          "name": "stdout",
          "text": [
            "+--------------------+-----+--------------------+\n",
            "|                path|label|            features|\n",
            "+--------------------+-----+--------------------+\n",
            "|/content/cats_dog...|  cat|[0.0, 0.05985079,...|\n",
            "|/content/cats_dog...|  cat|[0.0, 1.104105, 0...|\n",
            "|/content/cats_dog...|  cat|[0.3128522, 2.119...|\n",
            "|/content/cats_dog...|  cat|[0.0, 1.0443811, ...|\n",
            "|/content/cats_dog...|  cat|[0.0, 0.9542166, ...|\n",
            "+--------------------+-----+--------------------+\n",
            "only showing top 5 rows\n",
            "\n"
          ]
        }
      ]
    },
    {
      "cell_type": "code",
      "source": [
        "# Réalisez une classification simple avec les caractéristiques extraites.\n",
        "from pyspark.ml.feature import VectorAssembler\n",
        "from pyspark.ml.classification import LogisticRegression\n",
        "from pyspark.ml.evaluation import MulticlassClassificationEvaluator\n",
        "from pyspark.ml.linalg import Vectors, VectorUDT\n",
        "from pyspark.sql.functions import udf"
      ],
      "metadata": {
        "id": "x1iROSAxtwMZ"
      },
      "execution_count": 66,
      "outputs": []
    },
    {
      "cell_type": "code",
      "source": [
        "# Convertir les caractéristiques en format de vecteurs compatibles avec Spark ML\n",
        "def convert_array_to_vector(features):\n",
        "    return Vectors.dense(features)"
      ],
      "metadata": {
        "id": "k1DmJ4rmvC_b"
      },
      "execution_count": 67,
      "outputs": []
    },
    {
      "cell_type": "code",
      "source": [
        "# Convertir les caractéristiques et les labels en un format utilisable par Spark ML\n",
        "array_to_vector_udf = udf(lambda features: Vectors.dense(features) if features else None, VectorUDT())\n",
        "vectorized_df = image_df.withColumn(\"features_vec\", array_to_vector_udf(col(\"features\")))"
      ],
      "metadata": {
        "id": "6Thbhcy4tzWx"
      },
      "execution_count": 68,
      "outputs": []
    },
    {
      "cell_type": "code",
      "source": [
        "# Indexer les labels pour la classification\n",
        "from pyspark.ml.feature import StringIndexer\n",
        "label_indexer = StringIndexer(inputCol=\"label\", outputCol=\"label_index\")\n",
        "data = label_indexer.fit(vectorized_df).transform(vectorized_df)"
      ],
      "metadata": {
        "id": "aHPulPCsus3k"
      },
      "execution_count": 69,
      "outputs": []
    },
    {
      "cell_type": "code",
      "source": [
        "# Diviser les données en ensembles d'entraînement et de test\n",
        "train, test = data.randomSplit([0.8, 0.2], seed=42)"
      ],
      "metadata": {
        "id": "_g_-x5LzvZ50"
      },
      "execution_count": 70,
      "outputs": []
    },
    {
      "cell_type": "markdown",
      "source": [
        "## Calcul distribué :\n",
        "Spark ML divise les données d'entraînement entre les nœuds pour entraîner le modèle de manière parallèle."
      ],
      "metadata": {
        "id": "x8_hsrVt7hFz"
      }
    },
    {
      "cell_type": "code",
      "source": [
        "%%time\n",
        "# Entraîner un modèle de régression logistique\n",
        "lr = LogisticRegression(featuresCol=\"features_vec\", labelCol=\"label_index\")\n",
        "model = lr.fit(train)"
      ],
      "metadata": {
        "colab": {
          "base_uri": "https://localhost:8080/"
        },
        "id": "M-zze11dvcNU",
        "outputId": "aa2ecfd2-431a-4b53-9a25-1142acc86734"
      },
      "execution_count": 71,
      "outputs": [
        {
          "output_type": "stream",
          "name": "stdout",
          "text": [
            "CPU times: user 380 ms, sys: 46.5 ms, total: 426 ms\n",
            "Wall time: 1min\n"
          ]
        }
      ]
    },
    {
      "cell_type": "code",
      "source": [
        "%%time\n",
        "# Évaluer le modèle sur les données de test\n",
        "predictions = model.transform(test)\n",
        "evaluator = MulticlassClassificationEvaluator(labelCol=\"label_index\", predictionCol=\"prediction\", metricName=\"accuracy\")\n",
        "accuracy = evaluator.evaluate(predictions)\n",
        "print(f\"Précision du modèle : {accuracy}\")"
      ],
      "metadata": {
        "colab": {
          "base_uri": "https://localhost:8080/"
        },
        "id": "AnznyKkdvdz1",
        "outputId": "2c946743-5252-4451-d78a-9a8f32089bcc"
      },
      "execution_count": 72,
      "outputs": [
        {
          "output_type": "stream",
          "name": "stdout",
          "text": [
            "Précision du modèle : 0.9\n",
            "CPU times: user 131 ms, sys: 20.9 ms, total: 152 ms\n",
            "Wall time: 20 s\n"
          ]
        }
      ]
    },
    {
      "cell_type": "code",
      "source": [],
      "metadata": {
        "id": "woGwjMVVvf9M"
      },
      "execution_count": 72,
      "outputs": []
    }
  ]
}